{
 "cells": [
  {
   "cell_type": "markdown",
   "metadata": {},
   "source": [
    "# Trading Agent Analysis Notebook\n",
    "\n",
    "This notebook demonstrates the reinforcement learning-based trading agent's capabilities, including:\n",
    "- Model configuration and training\n",
    "- Performance visualization\n",
    "- Technical analysis\n",
    "- Portfolio metrics"
   ]
  },
  {
   "cell_type": "code",
   "execution_count": null,
   "metadata": {},
   "outputs": [],
   "source": [
    "# Import required libraries\n",
    "import numpy as np\n",
    "import pandas as pd\n",
    "import plotly.graph_objects as go\n",
    "from plotly.subplots import make_subplots\n",
    "import ta\n",
    "from datetime import datetime, timedelta\n",
    "from typing import Dict, Any, List, Optional, Union, Tuple\n",
    "from core.base_agent import UnifiedTradingAgent\n",
    "from core.visualization import TradingVisualizer\n",
    "import optuna\n",
    "import logging\n",
    "\n",
    "# Configure logging\n",
    "logger = logging.getLogger(__name__)\n",
    "logger.setLevel(logging.INFO)"
   ]
  },
  {
   "cell_type": "markdown",
   "metadata": {},
   "source": [
    "## Initialize Trading Agent\n",
    "\n",
    "Set up the trading agent with initial configuration."
   ]
  },
  {
   "cell_type": "code",
   "execution_count": null,
   "metadata": {},
   "outputs": [],
   "source": [
    "# Initialize the trading agent\n",
    "model = UnifiedTradingAgent()\n",
    "\n",
    "# Set environment parameters\n",
    "env_params = {\n",
    "    'initial_balance': 10000,\n",
    "    'transaction_cost': 0.01,\n",
    "    'use_position_profit': False,\n",
    "    'use_holding_bonus': False,\n",
    "    'use_trading_penalty': False\n",
    "}\n",
    "\n",
    "# Set PPO parameters\n",
    "ppo_params = {\n",
    "    'learning_rate': 3e-4,\n",
    "    'n_steps': 512,\n",
    "    'batch_size': 128,\n",
    "    'n_epochs': 5,\n",
    "    'gamma': 0.99,\n",
    "    'clip_range': 0.2,\n",
    "    'target_kl': 0.05\n",
    "}"
   ]
  },
  {
   "cell_type": "markdown",
   "metadata": {},
   "source": [
    "## Training Configuration\n",
    "\n",
    "Set up the training period and stock symbol."
   ]
  },
  {
   "cell_type": "code",
   "execution_count": null,
   "metadata": {},
   "outputs": [],
   "source": [
    "# Configure training parameters\n",
    "stock_name = \"AAPL\"  # Change this to your desired stock\n",
    "train_start_date = datetime.now() - timedelta(days=365 * 5)\n",
    "train_end_date = datetime.now() - timedelta(days=365 + 1)\n",
    "\n",
    "# Train the model\n",
    "metrics = model.train(\n",
    "    stock_name=stock_name,\n",
    "    start_date=train_start_date,\n",
    "    end_date=train_end_date,\n",
    "    env_params=env_params,\n",
    "    ppo_params=ppo_params\n",
    ")\n",
    "\n",
    "# Display training metrics\n",
    "print(\"Training Metrics:\")\n",
    "print(f\"Sharpe Ratio: {metrics['sharpe_ratio']:.2f}\")\n",
    "print(f\"Maximum Drawdown: {metrics['max_drawdown']:.2%}\")\n",
    "print(f\"Sortino Ratio: {metrics['sortino_ratio']:.2f}\")\n",
    "print(f\"Volatility: {metrics['volatility']:.2%}\")\n",
    "print(f\"Total Return: {metrics['total_return']:.2%}\")\n",
    "print(f\"Final Portfolio Value: ${metrics['final_value']:,.2f}\")"
   ]
  },
  {
   "cell_type": "markdown",
   "metadata": {},
   "source": [
    "## Model Testing and Visualization\n",
    "\n",
    "Test the trained model and visualize its performance."
   ]
  },
  {
   "cell_type": "code",
   "execution_count": null,
   "metadata": {},
   "outputs": [],
   "source": [
    "# Configure test period\n",
    "test_start_date = datetime.now() - timedelta(days=365)\n",
    "test_end_date = datetime.now()\n",
    "\n",
    "# Test the model\n",
    "test_results = model.test(\n",
    "    stock_name=stock_name,\n",
    "    start_date=test_start_date,\n",
    "    end_date=test_end_date,\n",
    "    env_params=env_params,\n",
    "    ppo_params=ppo_params\n",
    ")\n",
    "\n",
    "# Display test metrics\n",
    "metrics = test_results['metrics']\n",
    "print(\"\\nTest Results:\")\n",
    "print(f\"Sharpe Ratio: {metrics['sharpe_ratio']:.2f}\")\n",
    "print(f\"Maximum Drawdown: {metrics['max_drawdown']:.2%}\")\n",
    "print(f\"Sortino Ratio: {metrics['sortino_ratio']:.2f}\")\n",
    "print(f\"Information Ratio: {metrics['information_ratio']:.2f}\")\n",
    "print(f\"Volatility: {metrics['volatility']:.2%}\")\n",
    "print(f\"Final Portfolio Value: ${test_results['portfolio_history'][-1]:,.2f}\")"
   ]
  },
  {
   "cell_type": "markdown",
   "metadata": {},
   "source": [
    "## Technical Analysis Visualization"
   ]
  },
  {
   "cell_type": "code",
   "execution_count": null,
   "metadata": {},
   "outputs": [],
   "source": [
    "# Initialize visualizer\n",
    "visualizer = TradingVisualizer()\n",
    "visualizer.show_rsi = True\n",
    "visualizer.show_sma20 = True\n",
    "visualizer.show_sma50 = True\n",
    "visualizer.rsi_period = 14\n",
    "\n",
    "# Fetch and prepare data\n",
    "portfolio_data = model.data_handler.fetch_data(stock_name, test_start_date, test_end_date)\n",
    "portfolio_data = model.data_handler.prepare_data()\n",
    "\n",
    "if stock_name in portfolio_data:\n",
    "    data = portfolio_data[stock_name]\n",
    "    \n",
    "    # Create and display technical analysis chart\n",
    "    main_chart = visualizer.create_single_chart(stock_name, data)\n",
    "    main_chart.show()\n",
    "    \n",
    "    # Create and display cumulative returns\n",
    "    cum_returns_fig = visualizer.plot_cumulative_returns({stock_name: data})\n",
    "    cum_returns_fig.show()\n",
    "    \n",
    "    # Create and display drawdown\n",
    "    drawdown_fig = visualizer.plot_drawdown({stock_name: data}, stock_name)\n",
    "    drawdown_fig.show()\n",
    "    \n",
    "    # Create and display performance and drawdown combined\n",
    "    perf_dd_fig = visualizer.plot_performance_and_drawdown({stock_name: data}, stock_name)\n",
    "    perf_dd_fig.show()"
   ]
  },
  {
   "cell_type": "markdown",
   "metadata": {},
   "source": [
    "## Agent Actions Analysis"
   ]
  },
  {
   "cell_type": "code",
   "execution_count": null,
   "metadata": {},
   "outputs": [],
   "source": [
    "# Display agent actions plot\n",
    "test_results['action_plot'].show()\n",
    "\n",
    "# Display combined price and actions plot\n",
    "test_results['combined_plot'].show()\n",
    "\n",
    "# Plot returns distribution\n",
    "fig = go.Figure(data=[go.Histogram(x=test_results['returns'], nbinsx=50)])\n",
    "fig.update_layout(\n",
    "    title=\"Returns Distribution\",\n",
    "    xaxis_title=\"Return\",\n",
    "    yaxis_title=\"Frequency\",\n",
    "    showlegend=True\n",
    ")\n",
    "fig.show()\n",
    "\n",
    "# Plot drawdown over time\n",
    "values = np.array(test_results['portfolio_history'])\n",
    "peak = np.maximum.accumulate(values)\n",
    "drawdowns = (peak - values) / peak\n",
    "fig = go.Figure(data=[go.Scatter(y=drawdowns, mode='lines', name='Drawdown')])\n",
    "fig.update_layout(title=\"Drawdown Over Time\")\n",
    "fig.show()"
   ]
  }
 ],
 "metadata": {
  "kernelspec": {
   "display_name": "Python 3",
   "language": "python",
   "name": "python3"
  },
  "language_info": {
   "codemirror_mode": {
    "name": "ipython",
    "version": 3
   },
   "file_extension": ".py",
   "mimetype": "text/x-python",
   "name": "python",
   "nbconvert_exporter": "python",
   "pygments_lexer": "ipython3",
   "version": "3.10.0"
  }
 },
 "nbformat": 4,
 "nbformat_minor": 4
}
